{
  "nbformat": 4,
  "nbformat_minor": 0,
  "metadata": {
    "colab": {
      "provenance": [],
      "gpuType": "T4",
      "authorship_tag": "ABX9TyPafOK1p3wGjIMWQv4ds4YW",
      "include_colab_link": true
    },
    "kernelspec": {
      "name": "python3",
      "display_name": "Python 3"
    },
    "language_info": {
      "name": "python"
    },
    "accelerator": "GPU"
  },
  "cells": [
    {
      "cell_type": "markdown",
      "metadata": {
        "id": "view-in-github",
        "colab_type": "text"
      },
      "source": [
        "<a href=\"https://colab.research.google.com/github/coderANYA/AI-Course/blob/main/YOLO_Demo.ipynb\" target=\"_parent\"><img src=\"https://colab.research.google.com/assets/colab-badge.svg\" alt=\"Open In Colab\"/></a>"
      ]
    },
    {
      "cell_type": "markdown",
      "source": [
        "**YOLO ObjectDetection**"
      ],
      "metadata": {
        "id": "facPM3vs0A39"
      }
    },
    {
      "cell_type": "code",
      "source": [
        "!pip install ultralytics supervision"
      ],
      "metadata": {
        "id": "xMj7HPdJ04VR"
      },
      "execution_count": null,
      "outputs": []
    },
    {
      "cell_type": "code",
      "source": [
        "import ultralytics"
      ],
      "metadata": {
        "id": "tSxlARcV1bGx"
      },
      "execution_count": null,
      "outputs": []
    },
    {
      "cell_type": "code",
      "source": [
        "# model - details\n",
        "# yolov8x - the default model\n",
        "model = ultralytics.YOLO(\"yolov8x\")"
      ],
      "metadata": {
        "id": "uKpqzXIY0U3G"
      },
      "execution_count": null,
      "outputs": []
    },
    {
      "cell_type": "code",
      "source": [
        "import cv2\n",
        "import matplotlib.pyplot as plt"
      ],
      "metadata": {
        "id": "2r4OZ2rJ1Wjz"
      },
      "execution_count": null,
      "outputs": []
    },
    {
      "cell_type": "code",
      "source": [
        "path = r\"/content/robotics.jpg\"  # raw image\n",
        "img = cv2.imread(path)\n",
        "img = cv2.cvtColor(img, cv2.COLOR_BGR2RGB)\n",
        "plt.imshow(img)\n",
        "plt.axis(\"off\")\n",
        "plt.show()\n"
      ],
      "metadata": {
        "id": "MNG6pVbo1n6r"
      },
      "execution_count": null,
      "outputs": []
    },
    {
      "cell_type": "code",
      "source": [
        "# prediction\n",
        "model(path)"
      ],
      "metadata": {
        "id": "3oqZxRuN2QA1"
      },
      "execution_count": null,
      "outputs": []
    },
    {
      "cell_type": "code",
      "source": [
        "# prediction\n",
        "result = model(path, project='YOLO_Demo', save=True)"
      ],
      "metadata": {
        "id": "uugiJOeW3ZTD"
      },
      "execution_count": null,
      "outputs": []
    },
    {
      "cell_type": "code",
      "source": [
        "# For detecting a video\n",
        "# sample code\n",
        "model(r\"path of the video\", save=True)"
      ],
      "metadata": {
        "id": "sR64HmiO4wqb"
      },
      "execution_count": null,
      "outputs": []
    }
  ]
}