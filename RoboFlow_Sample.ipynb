{
  "nbformat": 4,
  "nbformat_minor": 0,
  "metadata": {
    "colab": {
      "provenance": [],
      "gpuType": "T4",
      "authorship_tag": "ABX9TyMoEzpZqbw1I3W2/co9EqTT",
      "include_colab_link": true
    },
    "kernelspec": {
      "name": "python3",
      "display_name": "Python 3"
    },
    "language_info": {
      "name": "python"
    },
    "accelerator": "GPU"
  },
  "cells": [
    {
      "cell_type": "markdown",
      "metadata": {
        "id": "view-in-github",
        "colab_type": "text"
      },
      "source": [
        "<a href=\"https://colab.research.google.com/github/coderANYA/AI-Course/blob/main/RoboFlow_Sample.ipynb\" target=\"_parent\"><img src=\"https://colab.research.google.com/assets/colab-badge.svg\" alt=\"Open In Colab\"/></a>"
      ]
    },
    {
      "cell_type": "code",
      "source": [
        "!pip install roboflow"
      ],
      "metadata": {
        "id": "4m3q6sH3vrUI",
        "collapsed": true
      },
      "execution_count": null,
      "outputs": []
    },
    {
      "cell_type": "code",
      "source": [
        "!nvidia-smi"
      ],
      "metadata": {
        "id": "oBsC6GqMwkyh",
        "collapsed": true
      },
      "execution_count": null,
      "outputs": []
    },
    {
      "cell_type": "code",
      "execution_count": null,
      "metadata": {
        "id": "yuHRhFyOuhnM",
        "collapsed": true
      },
      "outputs": [],
      "source": [
        "from roboflow import Roboflow\n",
        "from google.colab import userdata\n",
        "rf = Roboflow(api_key=userdata.get(\"Roboflow_api_key\"))\n",
        "project = rf.workspace(\"my-workspace-xgjjf\").project(\"animals-5a37c\")\n",
        "version = project.version(1)\n",
        "dataset = version.download(\"yolov8\")\n"
      ]
    },
    {
      "cell_type": "code",
      "source": [
        "pip install ultralytics"
      ],
      "metadata": {
        "id": "1zCOcBv0x_wA",
        "collapsed": true
      },
      "execution_count": null,
      "outputs": []
    },
    {
      "cell_type": "code",
      "source": [
        "from ultralytics import YOLO\n",
        "model = YOLO(\"yolov8s-seg\")\n",
        "model"
      ],
      "metadata": {
        "id": "A7YUZ25gxkL7",
        "collapsed": true
      },
      "execution_count": null,
      "outputs": []
    },
    {
      "cell_type": "markdown",
      "source": [
        "Train the dataset\n"
      ],
      "metadata": {
        "id": "fFhkihjdzhc-"
      }
    },
    {
      "cell_type": "code",
      "source": [
        "model.train(\n",
        "    data = \"/content/Animals-1/data.yaml\",\n",
        "    epochs = 1,\n",
        "    patience = 10,\n",
        "    project = \"animals\",\n",
        "    batch = 4,\n",
        ")"
      ],
      "metadata": {
        "id": "Yl7g4IVwzlO4",
        "collapsed": true
      },
      "execution_count": null,
      "outputs": []
    },
    {
      "cell_type": "code",
      "source": [
        "model.train(\n",
        "    data = \"/content/Animals-1/data.yaml\",\n",
        "    epochs = 10,\n",
        "    patience = 10,\n",
        "    project = \"animals\",\n",
        "    batch = 4,\n",
        ")"
      ],
      "metadata": {
        "id": "eYpieaq41uh6",
        "collapsed": true
      },
      "execution_count": null,
      "outputs": []
    },
    {
      "cell_type": "markdown",
      "source": [
        "Check the model"
      ],
      "metadata": {
        "id": "9EtdfVf44O0B"
      }
    },
    {
      "cell_type": "code",
      "source": [
        "from ultralytics import YOLO\n",
        "animal_model = YOLO(\"/content/animals/train2/weights/best.pt\")"
      ],
      "metadata": {
        "id": "Ga7rnzNd0qic"
      },
      "execution_count": null,
      "outputs": []
    },
    {
      "cell_type": "code",
      "source": [
        "animal_model('https://www.youtube.com/watch?v=TeCkm-BEZ-8&pp=ygUSbGlvbiB2aWRlbyAzIG1pbnMg', save = True)"
      ],
      "metadata": {
        "id": "6zN9-F4v6SKt",
        "collapsed": true
      },
      "execution_count": null,
      "outputs": []
    }
  ]
}