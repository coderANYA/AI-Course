{
 "cells": [
  {
   "cell_type": "markdown",
   "metadata": {},
   "source": [
    "# Preprocessing steps\n",
    "1. Imputating missing values (sklearn.impute)"
   ]
  },
  {
   "cell_type": "code",
   "execution_count": null,
   "metadata": {},
   "outputs": [],
   "source": [
    "import pandas as pd\n",
    "import numpy as np\n",
    "\n",
    "a = pd.DataFrame({\n",
    "    'A': [1,2,3,None,None,23,56,67,76],\n",
    "    'B': [54,None,6,None,1,2,2,5,5],\n",
    "    'C': ['A','B',np.nan,np.nan,'B','B','A','A','B'],\n",
    "    'D': ['Purchase','Not Purchase','Purchase','Purchase','Not Purchase','Purchase','Not Purchase','Purchase','Not Purchase']\n",
    "})\n",
    "a"
   ]
  },
  {
   "cell_type": "markdown",
   "metadata": {},
   "source": [
    "Rule: Never impute the missing values in target variable ,drop the rows with missing target variable values "
   ]
  },
  {
   "cell_type": "code",
   "execution_count": null,
   "metadata": {},
   "outputs": [],
   "source": [
    "from sklearn.impute import SimpleImputer\n",
    "\n",
    "# object creation\n",
    "si = SimpleImputer()\n",
    "#fit the imputer\n",
    "a[['A','B']] = si.fit_transform (a[['A','B']]) \n",
    "si2 = SimpleImputer(strategy = 'most_frequent')\n",
    "a[['C']] = si2.fit_transform(a[['C']]) \n",
    "a"
   ]
  },
  {
   "cell_type": "markdown",
   "metadata": {},
   "source": [
    "2. Encoding categorical variables (sklearn.preprocessing)\n",
    "- Ordinal encoding (OrdinalEncoder)\n",
    "- Label encoding (LabelEncoder) for target variable only\n",
    "- One-hot encoding (OneHotEncoder)"
   ]
  },
  {
   "cell_type": "code",
   "execution_count": null,
   "metadata": {},
   "outputs": [],
   "source": [
    "from sklearn.preprocessing import OrdinalEncoder\n",
    "oe = OrdinalEncoder()\n",
    "a['C'] = oe.fit_transform(a[['C']])\n",
    "a"
   ]
  },
  {
   "cell_type": "code",
   "execution_count": null,
   "metadata": {},
   "outputs": [],
   "source": [
    "from sklearn.preprocessing import LabelEncoder\n",
    "le = LabelEncoder()\n",
    "a ['D'] = le.fit_transform(a[['D']])\n",
    "a\n"
   ]
  },
  {
   "cell_type": "code",
   "execution_count": null,
   "metadata": {},
   "outputs": [],
   "source": [
    "from sklearn.preprocessing import OneHotEncoder\n",
    "\n",
    "df = pd.DataFrame({\n",
    "    'City' : ['Delhi','Mumbai','Hyderabad','Mumbai','Delhi'],\n",
    "    'pop' : [12,12,14,15,16]\n",
    "})\n",
    "he = OneHotEncoder(drop = 'first', sparse_output= False)\n",
    "enc_city = he.fit_transform(df[['City']])\n",
    "df = pd.concat([df, pd.DataFrame(enc_city)], axis = 1)\n",
    "df.drop('City', axis = 1, inplace= True)\n",
    "df\n"
   ]
  },
  {
   "cell_type": "code",
   "execution_count": null,
   "metadata": {},
   "outputs": [],
   "source": [
    "he.inverse_transform([[1,0],[0,0]])"
   ]
  },
  {
   "cell_type": "code",
   "execution_count": null,
   "metadata": {},
   "outputs": [],
   "source": [
    "from sklearn.preprocessing import StandardScaler\n",
    "df = pd.DataFrame({\n",
    "    'salary': [10000,100000,50000,1203000],\n",
    "    'age': [44,34,45,30],\n",
    "})\n",
    "sc = StandardScaler()\n",
    "df[['salary','age']] = sc.fit_transform(df)\n",
    "df"
   ]
  }
 ],
 "metadata": {
  "kernelspec": {
   "display_name": "base",
   "language": "python",
   "name": "python3"
  },
  "language_info": {
   "codemirror_mode": {
    "name": "ipython",
    "version": 3
   },
   "file_extension": ".py",
   "mimetype": "text/x-python",
   "name": "python",
   "nbconvert_exporter": "python",
   "pygments_lexer": "ipython3",
   "version": "3.10.10"
  }
 },
 "nbformat": 4,
 "nbformat_minor": 2
}
