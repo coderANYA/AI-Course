{
  "nbformat": 4,
  "nbformat_minor": 0,
  "metadata": {
    "colab": {
      "provenance": [],
      "gpuType": "T4",
      "authorship_tag": "ABX9TyPvIobYJH3k4PIO09huTx6s",
      "include_colab_link": true
    },
    "kernelspec": {
      "name": "python3",
      "display_name": "Python 3"
    },
    "language_info": {
      "name": "python"
    },
    "accelerator": "GPU"
  },
  "cells": [
    {
      "cell_type": "markdown",
      "metadata": {
        "id": "view-in-github",
        "colab_type": "text"
      },
      "source": [
        "<a href=\"https://colab.research.google.com/github/coderANYA/AI-Course/blob/main/cnn.ipynb\" target=\"_parent\"><img src=\"https://colab.research.google.com/assets/colab-badge.svg\" alt=\"Open In Colab\"/></a>"
      ]
    },
    {
      "cell_type": "markdown",
      "source": [
        "**fashion mnist dataset**"
      ],
      "metadata": {
        "id": "ScjNLEEjDyeu"
      }
    },
    {
      "cell_type": "code",
      "source": [
        "import tensorflow as  tf\n",
        "import numpy as np\n",
        "import matplotlib.pyplot as plt"
      ],
      "metadata": {
        "id": "uQACLzidrfLx"
      },
      "execution_count": null,
      "outputs": []
    },
    {
      "cell_type": "code",
      "source": [
        "fmnist = tf.keras.datasets.fashion_mnist\n",
        "(train_images, train_labels), (test_images, test_labels) = fmnist.load_data()"
      ],
      "metadata": {
        "id": "mld-ZJ4srq5_",
        "collapsed": true
      },
      "execution_count": null,
      "outputs": []
    },
    {
      "cell_type": "code",
      "source": [
        "def show_image():\n",
        "  from random import randint\n",
        "  index = randint(0, 60000)\n",
        "  plt.figure(figsize=(1,1))\n",
        "  plt.imshow(train_images[index], cmap='gray')\n",
        "  plt.title(f'label:{train_labels[index]}')\n",
        "  plt.grid(False)\n",
        "  plt.axis('off')\n",
        "  plt.show()\n",
        "show_image()"
      ],
      "metadata": {
        "id": "DJAXYy5osZcf",
        "collapsed": true
      },
      "execution_count": null,
      "outputs": []
    },
    {
      "cell_type": "code",
      "source": [
        "# normalize the images (0 - 255) to (0 - 1)\n",
        "train_images = train_images / 255.0\n",
        "test_images = test_images / 255.0"
      ],
      "metadata": {
        "id": "a934HgsEuIs5"
      },
      "execution_count": null,
      "outputs": []
    },
    {
      "cell_type": "code",
      "source": [
        "train_images.shape"
      ],
      "metadata": {
        "id": "yHhcA8PDv123",
        "collapsed": true
      },
      "execution_count": null,
      "outputs": []
    },
    {
      "cell_type": "code",
      "source": [
        "train_images = train_images.reshape(train_images.shape[0], 28,28, 1)\n",
        "test_images = test_images.reshape(test_images.shape[0],28,28,1)"
      ],
      "metadata": {
        "id": "8Bo9XOjJyGdi"
      },
      "execution_count": null,
      "outputs": []
    },
    {
      "cell_type": "code",
      "source": [
        "# cnn model\n",
        "model = tf.keras.models.Sequential([\n",
        "    tf.keras.layers.Conv2D(32, (3,3), activation = 'relu', input_shape =  train_images.shape[1:]),  # 1 = Black & White image\n",
        "    tf.keras.layers.MaxPooling2D(2,2),\n",
        "    tf.keras.layers.Conv2D(64, (3,3), activation = 'relu'),\n",
        "    tf.keras.layers.MaxPooling2D(2,2),\n",
        "    tf.keras.layers.Flatten(),\n",
        "    tf.keras.layers.Dense(128, activation = 'relu'),\n",
        "    tf.keras.layers.Dense(10, activation = 'softmax')    # output layer\n",
        "])\n",
        "model.compile(\n",
        "    optimizer = 'adam',\n",
        "    loss = 'sparse_categorical_crossentropy',\n",
        "    metrics = ['accuracy']\n",
        ")\n",
        "model.summary()"
      ],
      "metadata": {
        "id": "_d9Ur_OcvhVe",
        "collapsed": true
      },
      "execution_count": null,
      "outputs": []
    },
    {
      "cell_type": "markdown",
      "source": [
        "Now train/fit the dataset"
      ],
      "metadata": {
        "id": "x1CeMidtzBoh"
      }
    },
    {
      "cell_type": "code",
      "source": [
        "epochs = 1\n",
        "batch_size = 32\n",
        "val_size = .2\n",
        "patience = 5\n",
        "es = tf.keras.callbacks.EarlyStopping(monitor = 'val_loss', patience = patience)\n",
        "board = tf.keras.callbacks.TensorBoard(log_dir = 'logs', histogram_freq=1)\n",
        "history = model.fit(\n",
        "    train_images, train_labels,\n",
        "    epochs = epochs,\n",
        "    batch_size = batch_size,\n",
        "    validation_split = val_size,\n",
        "    callbacks = [es, board],\n",
        "    verbose = 1,\n",
        ")"
      ],
      "metadata": {
        "id": "mXxi9aEHyyEK",
        "collapsed": true
      },
      "execution_count": null,
      "outputs": []
    },
    {
      "cell_type": "code",
      "source": [
        "# evaluate the model\n",
        "model.evaluate(test_images, test_labels)"
      ],
      "metadata": {
        "id": "LGz2iuJe1e1f",
        "collapsed": true
      },
      "execution_count": null,
      "outputs": []
    },
    {
      "cell_type": "code",
      "source": [
        "from PIL import Image\n",
        "def predict_img(img_path):\n",
        "    class_names = ['T-shirt/top',\n",
        "                'Trouser', 'Pullover',\n",
        "                'Dress', 'Coat',\n",
        "                'Sandal', 'Shirt',\n",
        "                'Sneaker', 'Bag',\n",
        "                'Ankle boot']\n",
        "    img = Image.open(img_path).convert('L')             # load and make it grayscale\n",
        "    img = img.resize((28, 28))                          # resize to 28x28\n",
        "    img = np.array(img)                                 # convert to numpy array\n",
        "    img = img / 255.0                                   # normalize\n",
        "    img = img.reshape(1, 28, 28, 1)                     # reshape to (1, 28, 28, 1)\n",
        "    prediction = model.predict(img)                     # predict\n",
        "    name = class_names[np.argmax(prediction)]           # get the class name\n",
        "    return {\n",
        "        'prediction': np.argmax(prediction),\n",
        "        'confidence': np.max(prediction),\n",
        "        'name': name\n",
        "    }"
      ],
      "metadata": {
        "id": "3qLr6j7X1961"
      },
      "execution_count": null,
      "outputs": []
    }
  ]
}